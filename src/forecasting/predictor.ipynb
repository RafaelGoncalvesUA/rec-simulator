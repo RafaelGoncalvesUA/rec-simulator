{
 "cells": [
  {
   "cell_type": "code",
   "execution_count": 2,
   "metadata": {},
   "outputs": [],
   "source": [
    "import pandas as pd\n",
    "import numpy as np\n",
    "from neuralprophet import NeuralProphet\n",
    "from sklearn.model_selection import train_test_split\n",
    "\n",
    "import warnings\n",
    "warnings.filterwarnings(category=FutureWarning, action=\"ignore\")"
   ]
  },
  {
   "cell_type": "code",
   "execution_count": 3,
   "metadata": {},
   "outputs": [
    {
     "name": "stdout",
     "output_type": "stream",
     "text": [
      "                   ds      y\n",
      "0 2024-01-01 00:00:00  63.33\n",
      "1 2024-01-01 00:15:00  60.02\n",
      "2 2024-01-01 00:30:00  56.71\n",
      "3 2024-01-01 00:45:00  53.40\n",
      "4 2024-01-01 01:00:00  50.09\n",
      "(8760, 2)\n",
      "                   ds    y\n",
      "0 2024-01-01 00:00:00  0.0\n",
      "1 2024-01-01 00:15:00  0.0\n",
      "2 2024-01-01 00:30:00  0.0\n",
      "3 2024-01-01 00:45:00  0.0\n",
      "4 2024-01-01 01:00:00  0.0\n",
      "(8760, 2)\n"
     ]
    }
   ],
   "source": [
    "NUM_PV = 1\n",
    "\n",
    "pv_dfs = [\n",
    "    pd.read_csv(f\"../../data/renewable/renewable{i+1}.csv.gz\", compression='gzip', index_col=0)\n",
    "    for i in range(1)\n",
    "]\n",
    "\n",
    "price_df = pd.read_csv(\"data/price.csv\")\n",
    "price_df = price_df.rename(columns={\"TIME\": \"ds\", \"PRICE\": \"y\"})\n",
    "price_df['ds'] = pd.to_datetime(price_df['ds'])\n",
    "price_df = price_df.iloc[:pv_dfs[0].shape[0]]\n",
    "\n",
    "for i in range(len(pv_dfs)):\n",
    "    pv_df = pv_dfs[i]\n",
    "    pv_df[\"ds\"] = price_df[\"ds\"]\n",
    "    pv_df = pv_df[[\"ds\", \"0\"]].rename(columns={\"0\": \"y\"})\n",
    "    pv_dfs[i] = pv_df\n",
    "\n",
    "print(price_df.head())\n",
    "print(price_df.shape)\n",
    "\n",
    "print(pv_dfs[0].head())\n",
    "print(pv_dfs[0].shape)\n"
   ]
  },
  {
   "cell_type": "code",
   "execution_count": 4,
   "metadata": {},
   "outputs": [],
   "source": [
    "METRICS = [\"MAE\", \"RMSE\"]\n",
    "METRICS_VAL = [\"MAE_val\", \"RMSE_val\"]\n",
    "\n",
    "def cv_train(df):\n",
    "    folds = NeuralProphet(n_lags=8, n_forecasts=8)\\\n",
    "        .crossvalidation_split_df(df, freq='15min', k=5, fold_pct=0.2, fold_overlap_pct=0.5)\n",
    "\n",
    "    metrics_train = pd.DataFrame(columns=METRICS)\n",
    "    metrics_test = pd.DataFrame(columns=METRICS_VAL)\n",
    "\n",
    "    for df_train, df_test in folds:\n",
    "        m = NeuralProphet(n_lags=8, n_forecasts=8)\n",
    "        train = m.fit(df=df_train, freq=\"15min\", validation_df=df_test)\n",
    "        test = m.test(df=df_test)\n",
    "        metrics_train = metrics_train.append(train[METRICS].iloc[-1])\n",
    "        metrics_test = metrics_test.append(test[METRICS_VAL].iloc[-1])\n",
    "\n",
    "    print(metrics_test.describe().loc[[\"mean\", \"std\", \"min\", \"max\"]])\n",
    "\n",
    "    return metrics_train, metrics_test\n",
    "\n",
    "def train(df, split=0.67):\n",
    "    df_train, df_test = train_test_split(df, test_size=split, shuffle=False)\n",
    "    m = NeuralProphet(n_lags=8, n_forecasts=8)\n",
    "    train_res = m.fit(df=df_train, freq=\"15min\", validation_df=df_test)\n",
    "    return m, train_res\n",
    "\n",
    "def predict(model, df, forecast_hours=24):\n",
    "    periods = int((forecast_hours * 60) / 15)\n",
    "    future = model.make_future_dataframe(df, periods=periods)\n",
    "\n",
    "    forecast = model.predict(future)\n",
    "    return forecast"
   ]
  }
 ],
 "metadata": {
  "kernelspec": {
   "display_name": "rec",
   "language": "python",
   "name": "python3"
  },
  "language_info": {
   "codemirror_mode": {
    "name": "ipython",
    "version": 3
   },
   "file_extension": ".py",
   "mimetype": "text/x-python",
   "name": "python",
   "nbconvert_exporter": "python",
   "pygments_lexer": "ipython3",
   "version": "3.9.21"
  }
 },
 "nbformat": 4,
 "nbformat_minor": 2
}
