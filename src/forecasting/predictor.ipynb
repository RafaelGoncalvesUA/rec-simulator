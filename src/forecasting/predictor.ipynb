{
 "cells": [
  {
   "cell_type": "code",
   "execution_count": 1,
   "metadata": {},
   "outputs": [],
   "source": [
    "import pandas as pd\n",
    "import numpy as np\n",
    "from neuralprophet import NeuralProphet\n",
    "from sklearn.model_selection import train_test_split\n",
    "\n",
    "import warnings\n",
    "warnings.filterwarnings(category=FutureWarning, action=\"ignore\")"
   ]
  },
  {
   "cell_type": "code",
   "execution_count": 2,
   "metadata": {},
   "outputs": [
    {
     "name": "stdout",
     "output_type": "stream",
     "text": [
      "                   ds      y\n",
      "0 2024-01-01 00:00:00  63.33\n",
      "1 2024-01-01 00:15:00  60.02\n",
      "2 2024-01-01 00:30:00  56.71\n",
      "3 2024-01-01 00:45:00  53.40\n",
      "4 2024-01-01 01:00:00  50.09\n",
      "(35133, 2)\n"
     ]
    }
   ],
   "source": [
    "price_df = pd.read_csv(\"data/price.csv\")\n",
    "price_df = price_df.rename(columns={\"TIME\": \"ds\", \"PRICE\": \"y\"})\n",
    "price_df['ds'] = pd.to_datetime(price_df['ds'])\n",
    "\n",
    "print(price_df.head())\n",
    "print(price_df.shape)"
   ]
  },
  {
   "cell_type": "code",
   "execution_count": 3,
   "metadata": {},
   "outputs": [],
   "source": [
    "METRICS = [\"MAE\", \"RMSE\"]\n",
    "METRICS_VAL = [\"MAE_val\", \"RMSE_val\"]\n",
    "\n",
    "def cv_train(df, lags, forecast_horizon, epochs=100):\n",
    "    folds = NeuralProphet(n_lags=lags, n_forecasts=forecast_horizon)\\\n",
    "        .crossvalidation_split_df(df, freq='15min', k=10)\n",
    "\n",
    "    metrics_train = pd.DataFrame(columns=METRICS)\n",
    "    metrics_test = pd.DataFrame(columns=METRICS_VAL)\n",
    "\n",
    "    n_fold = 1\n",
    "    for df_train, df_test in folds:\n",
    "        print(f\"Fold {n_fold}/{len(folds)}\")\n",
    "        n_fold += 1\n",
    "        predictor = NeuralProphet(n_lags=lags, n_forecasts=forecast_horizon, batch_size=32, epochs=epochs)\n",
    "        train = predictor.fit(df=df_train, freq=\"15min\", validation_df=df_test)\n",
    "        test = predictor.test(df=df_test)\n",
    "        metrics_train = metrics_train.append(train[METRICS].iloc[-1])\n",
    "        metrics_test = metrics_test.append(test[METRICS_VAL].iloc[-1])\n",
    "\n",
    "    print(metrics_test.describe().loc[[\"mean\", \"std\", \"min\", \"max\"]])\n",
    "\n",
    "    return metrics_train, metrics_test\n",
    "\n",
    "def train(df, lags, forecast_horizon, epochs=100):\n",
    "    predictor = NeuralProphet(n_lags=lags, n_forecasts=forecast_horizon, batch_size=32, epochs=epochs)\n",
    "    train_res = predictor.fit(df=df, freq=\"15T\")\n",
    "    return predictor, train_res\n"
   ]
  },
  {
   "cell_type": "code",
   "execution_count": null,
   "metadata": {},
   "outputs": [],
   "source": [
    "forecast_steps = [1, 8, 12]\n",
    "n_lags = 24\n",
    "forecast_horizon = 12\n",
    "\n",
    "predictor, train_res = train(price_df, n_lags, forecast_horizon, epochs=100)\n",
    "\n",
    "train_res"
   ]
  },
  {
   "cell_type": "code",
   "execution_count": 5,
   "metadata": {},
   "outputs": [],
   "source": [
    "from neuralprophet.utils import save\n",
    "save(predictor, \"price_predictor.np\")"
   ]
  },
  {
   "cell_type": "code",
   "execution_count": null,
   "metadata": {},
   "outputs": [],
   "source": [
    "forecasts = predictor.predict(price_df)\n",
    "predictor.plot(forecasts)\n",
    "\n",
    "forecasts[[f\"yhat{step}\" for step in forecast_steps]]"
   ]
  }
 ],
 "metadata": {
  "kernelspec": {
   "display_name": "rec",
   "language": "python",
   "name": "python3"
  },
  "language_info": {
   "codemirror_mode": {
    "name": "ipython",
    "version": 3
   },
   "file_extension": ".py",
   "mimetype": "text/x-python",
   "name": "python",
   "nbconvert_exporter": "python",
   "pygments_lexer": "ipython3",
   "version": "3.9.21"
  }
 },
 "nbformat": 4,
 "nbformat_minor": 2
}
