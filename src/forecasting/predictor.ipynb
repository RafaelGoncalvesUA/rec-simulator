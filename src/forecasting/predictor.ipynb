{
 "cells": [
  {
   "cell_type": "code",
   "execution_count": 1,
   "metadata": {},
   "outputs": [],
   "source": [
    "import pandas as pd\n",
    "import numpy as np\n",
    "from neuralprophet import NeuralProphet\n",
    "from sklearn.model_selection import train_test_split\n",
    "\n",
    "import warnings\n",
    "warnings.filterwarnings(category=FutureWarning, action=\"ignore\")"
   ]
  },
  {
   "cell_type": "code",
   "execution_count": 2,
   "metadata": {},
   "outputs": [
    {
     "name": "stdout",
     "output_type": "stream",
     "text": [
      "                   ds      y\n",
      "0 2024-01-01 00:00:00  63.33\n",
      "1 2024-01-01 00:15:00  60.02\n",
      "2 2024-01-01 00:30:00  56.71\n",
      "3 2024-01-01 00:45:00  53.40\n",
      "4 2024-01-01 01:00:00  50.09\n",
      "(35133, 2)\n"
     ]
    }
   ],
   "source": [
    "price_df = pd.read_csv(\"data/price.csv\")\n",
    "price_df = price_df.rename(columns={\"TIME\": \"ds\", \"PRICE\": \"y\"})\n",
    "price_df['ds'] = pd.to_datetime(price_df['ds'])\n",
    "\n",
    "print(price_df.head())\n",
    "print(price_df.shape)"
   ]
  },
  {
   "cell_type": "code",
   "execution_count": 3,
   "metadata": {},
   "outputs": [],
   "source": [
    "METRICS = [\"MAE\", \"RMSE\"]\n",
    "METRICS_VAL = [\"MAE_val\", \"RMSE_val\"]\n",
    "\n",
    "def cv_train(df, lags, forecast_horizon, epochs=100):\n",
    "    folds = NeuralProphet(n_lags=lags, n_forecasts=forecast_horizon)\\\n",
    "        .crossvalidation_split_df(df, freq='15min', k=10)\n",
    "\n",
    "    metrics_train = pd.DataFrame(columns=METRICS)\n",
    "    metrics_test = pd.DataFrame(columns=METRICS_VAL)\n",
    "\n",
    "    n_fold = 1\n",
    "    for df_train, df_test in folds:\n",
    "        print(f\"Fold {n_fold}/{len(folds)}\")\n",
    "        n_fold += 1\n",
    "        predictor = NeuralProphet(n_lags=lags, n_forecasts=forecast_horizon, batch_size=32, epochs=epochs)\n",
    "        train = predictor.fit(df=df_train, freq=\"15min\", validation_df=df_test)\n",
    "        test = predictor.test(df=df_test)\n",
    "        metrics_train = metrics_train.append(train[METRICS].iloc[-1])\n",
    "        metrics_test = metrics_test.append(test[METRICS_VAL].iloc[-1])\n",
    "\n",
    "    print(metrics_test.describe().loc[[\"mean\", \"std\", \"min\", \"max\"]])\n",
    "\n",
    "    return metrics_train, metrics_test\n",
    "\n",
    "def train(df, lags, forecast_horizon, epochs=100):\n",
    "    predictor = NeuralProphet(n_lags=lags, n_forecasts=forecast_horizon, batch_size=32, epochs=epochs)\n",
    "    train_res = predictor.fit(df=df, freq=\"15T\")\n",
    "    return predictor, train_res\n"
   ]
  },
  {
   "cell_type": "code",
   "execution_count": 4,
   "metadata": {},
   "outputs": [
    {
     "name": "stderr",
     "output_type": "stream",
     "text": [
      "WARNING - (NP.forecaster.fit) - When Global modeling with local normalization, metrics are displayed in normalized scale.\n",
      "INFO - (NP.df_utils._infer_frequency) - Major frequency 15T corresponds to 99.997% of the data.\n",
      "INFO - (NP.df_utils._infer_frequency) - Defined frequency is equal to major frequency - 15T\n",
      "INFO - (NP.config.init_data_params) - Setting normalization to global as only one dataframe provided for training.\n",
      "INFO - (NP.utils.set_auto_seasonalities) - Disabling yearly seasonality. Run NeuralProphet with yearly_seasonality=True to override this.\n"
     ]
    },
    {
     "data": {
      "application/vnd.jupyter.widget-view+json": {
       "model_id": "47d256fb18e946118ebedd0547a07152",
       "version_major": 2,
       "version_minor": 0
      },
      "text/plain": [
       "Finding best initial lr:   0%|          | 0/263 [00:00<?, ?it/s]"
      ]
     },
     "metadata": {},
     "output_type": "display_data"
    },
    {
     "data": {
      "application/vnd.jupyter.widget-view+json": {
       "model_id": "6af3bc29eb8f46e1822fb8f454edad66",
       "version_major": 2,
       "version_minor": 0
      },
      "text/plain": [
       "Training: 0it [00:00, ?it/s]"
      ]
     },
     "metadata": {},
     "output_type": "display_data"
    },
    {
     "data": {
      "text/html": [
       "<div>\n",
       "<style scoped>\n",
       "    .dataframe tbody tr th:only-of-type {\n",
       "        vertical-align: middle;\n",
       "    }\n",
       "\n",
       "    .dataframe tbody tr th {\n",
       "        vertical-align: top;\n",
       "    }\n",
       "\n",
       "    .dataframe thead th {\n",
       "        text-align: right;\n",
       "    }\n",
       "</style>\n",
       "<table border=\"1\" class=\"dataframe\">\n",
       "  <thead>\n",
       "    <tr style=\"text-align: right;\">\n",
       "      <th></th>\n",
       "      <th>MAE</th>\n",
       "      <th>RMSE</th>\n",
       "      <th>Loss</th>\n",
       "      <th>RegLoss</th>\n",
       "      <th>epoch</th>\n",
       "    </tr>\n",
       "  </thead>\n",
       "  <tbody>\n",
       "    <tr>\n",
       "      <th>0</th>\n",
       "      <td>274.561737</td>\n",
       "      <td>346.260925</td>\n",
       "      <td>1.210146</td>\n",
       "      <td>0.0</td>\n",
       "      <td>0</td>\n",
       "    </tr>\n",
       "    <tr>\n",
       "      <th>1</th>\n",
       "      <td>122.078537</td>\n",
       "      <td>158.823105</td>\n",
       "      <td>0.391553</td>\n",
       "      <td>0.0</td>\n",
       "      <td>1</td>\n",
       "    </tr>\n",
       "    <tr>\n",
       "      <th>2</th>\n",
       "      <td>62.707218</td>\n",
       "      <td>79.654106</td>\n",
       "      <td>0.124194</td>\n",
       "      <td>0.0</td>\n",
       "      <td>2</td>\n",
       "    </tr>\n",
       "    <tr>\n",
       "      <th>3</th>\n",
       "      <td>32.698212</td>\n",
       "      <td>42.033096</td>\n",
       "      <td>0.036935</td>\n",
       "      <td>0.0</td>\n",
       "      <td>3</td>\n",
       "    </tr>\n",
       "    <tr>\n",
       "      <th>4</th>\n",
       "      <td>17.000448</td>\n",
       "      <td>22.675827</td>\n",
       "      <td>0.010769</td>\n",
       "      <td>0.0</td>\n",
       "      <td>4</td>\n",
       "    </tr>\n",
       "    <tr>\n",
       "      <th>...</th>\n",
       "      <td>...</td>\n",
       "      <td>...</td>\n",
       "      <td>...</td>\n",
       "      <td>...</td>\n",
       "      <td>...</td>\n",
       "    </tr>\n",
       "    <tr>\n",
       "      <th>95</th>\n",
       "      <td>7.078722</td>\n",
       "      <td>10.974842</td>\n",
       "      <td>0.002532</td>\n",
       "      <td>0.0</td>\n",
       "      <td>95</td>\n",
       "    </tr>\n",
       "    <tr>\n",
       "      <th>96</th>\n",
       "      <td>7.076402</td>\n",
       "      <td>10.964330</td>\n",
       "      <td>0.002531</td>\n",
       "      <td>0.0</td>\n",
       "      <td>96</td>\n",
       "    </tr>\n",
       "    <tr>\n",
       "      <th>97</th>\n",
       "      <td>7.078223</td>\n",
       "      <td>10.974001</td>\n",
       "      <td>0.002531</td>\n",
       "      <td>0.0</td>\n",
       "      <td>97</td>\n",
       "    </tr>\n",
       "    <tr>\n",
       "      <th>98</th>\n",
       "      <td>7.076868</td>\n",
       "      <td>10.973886</td>\n",
       "      <td>0.002530</td>\n",
       "      <td>0.0</td>\n",
       "      <td>98</td>\n",
       "    </tr>\n",
       "    <tr>\n",
       "      <th>99</th>\n",
       "      <td>7.075185</td>\n",
       "      <td>10.967268</td>\n",
       "      <td>0.002529</td>\n",
       "      <td>0.0</td>\n",
       "      <td>99</td>\n",
       "    </tr>\n",
       "  </tbody>\n",
       "</table>\n",
       "<p>100 rows × 5 columns</p>\n",
       "</div>"
      ],
      "text/plain": [
       "           MAE        RMSE      Loss  RegLoss  epoch\n",
       "0   274.561737  346.260925  1.210146      0.0      0\n",
       "1   122.078537  158.823105  0.391553      0.0      1\n",
       "2    62.707218   79.654106  0.124194      0.0      2\n",
       "3    32.698212   42.033096  0.036935      0.0      3\n",
       "4    17.000448   22.675827  0.010769      0.0      4\n",
       "..         ...         ...       ...      ...    ...\n",
       "95    7.078722   10.974842  0.002532      0.0     95\n",
       "96    7.076402   10.964330  0.002531      0.0     96\n",
       "97    7.078223   10.974001  0.002531      0.0     97\n",
       "98    7.076868   10.973886  0.002530      0.0     98\n",
       "99    7.075185   10.967268  0.002529      0.0     99\n",
       "\n",
       "[100 rows x 5 columns]"
      ]
     },
     "execution_count": 4,
     "metadata": {},
     "output_type": "execute_result"
    }
   ],
   "source": [
    "forecast_steps = [1, 8, 12]\n",
    "n_lags = 24\n",
    "forecast_horizon = 12\n",
    "\n",
    "predictor, train_res = train(price_df, n_lags, forecast_horizon, epochs=100)\n",
    "\n",
    "train_res"
   ]
  },
  {
   "cell_type": "code",
   "execution_count": 5,
   "metadata": {},
   "outputs": [],
   "source": [
    "from neuralprophet.utils import save\n",
    "save(predictor, \"price_predictor.np\")"
   ]
  },
  {
   "cell_type": "code",
   "execution_count": null,
   "metadata": {},
   "outputs": [],
   "source": [
    "forecasts = predictor.predict(price_df)\n",
    "predictor.plot(forecasts)\n",
    "\n",
    "forecasts[[f\"yhat{step}\" for step in forecast_steps]]"
   ]
  }
 ],
 "metadata": {
  "kernelspec": {
   "display_name": "rec",
   "language": "python",
   "name": "python3"
  },
  "language_info": {
   "codemirror_mode": {
    "name": "ipython",
    "version": 3
   },
   "file_extension": ".py",
   "mimetype": "text/x-python",
   "name": "python",
   "nbconvert_exporter": "python",
   "pygments_lexer": "ipython3",
   "version": "3.9.21"
  }
 },
 "nbformat": 4,
 "nbformat_minor": 2
}
