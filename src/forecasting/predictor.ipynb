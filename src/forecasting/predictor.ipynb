{
 "cells": [
  {
   "cell_type": "code",
   "execution_count": 1,
   "metadata": {},
   "outputs": [],
   "source": [
    "import os\n",
    "os.environ[\"CUDA_VISIBLE_DEVICES\"] = \"\""
   ]
  },
  {
   "cell_type": "code",
   "execution_count": 2,
   "metadata": {},
   "outputs": [],
   "source": [
    "import pandas as pd\n",
    "import numpy as np\n",
    "from neuralprophet import NeuralProphet\n",
    "import matplotlib.pyplot as plt\n",
    "\n",
    "import warnings\n",
    "warnings.filterwarnings(category=FutureWarning, action=\"ignore\")"
   ]
  },
  {
   "cell_type": "code",
   "execution_count": 3,
   "metadata": {},
   "outputs": [
    {
     "name": "stdout",
     "output_type": "stream",
     "text": [
      "                   ds      y\n",
      "0 2024-01-01 00:00:00  63.33\n",
      "1 2024-01-01 00:15:00  60.02\n",
      "2 2024-01-01 00:30:00  56.71\n",
      "3 2024-01-01 00:45:00  53.40\n",
      "4 2024-01-01 01:00:00  50.09\n",
      "                   ds            y\n",
      "0 2024-01-01 00:00:00   380.176396\n",
      "1 2024-01-01 00:15:00   291.550179\n",
      "2 2024-01-01 00:30:00  2982.256610\n",
      "3 2024-01-01 00:45:00  1541.116815\n",
      "4 2024-01-01 01:00:00   364.479790\n",
      "                   ds            y\n",
      "0 2024-01-01 00:00:00   734.649629\n",
      "1 2024-01-01 00:15:00  1198.827344\n",
      "2 2024-01-01 00:30:00   346.984806\n",
      "3 2024-01-01 00:45:00  1788.538221\n",
      "4 2024-01-01 01:00:00   989.350092\n"
     ]
    }
   ],
   "source": [
    "def preprocess(data_path, val_col):\n",
    "    df = pd.read_csv(data_path)\n",
    "    df = df.rename(columns={\"TIME\": \"ds\", val_col: \"y\"})\n",
    "    df['ds'] = pd.to_datetime(df['ds'])\n",
    "    \n",
    "    print(df.head())\n",
    "\n",
    "    return df\n",
    "\n",
    "price_df = preprocess(\"data/price.csv\", \"PRICE\")\n",
    "buy_energy_df = preprocess(\"data/purch_energy.csv\", \"ENERGY\")\n",
    "sell_energy_df = preprocess(\"data/sale_energy.csv\", \"ENERGY\")"
   ]
  },
  {
   "cell_type": "code",
   "execution_count": 7,
   "metadata": {},
   "outputs": [],
   "source": [
    "def train(df):\n",
    "    folds = NeuralProphet(n_lags=8, n_forecasts=8)\\\n",
    "        .crossvalidation_split_df(df, freq='15min', k=5, fold_pct=0.2, fold_overlap_pct=0.5)\n",
    "\n",
    "    METRICS = [\"MAE\", \"RMSE\"]\n",
    "    METRICS_VAL = [\"MAE_val\", \"RMSE_val\"]\n",
    "\n",
    "    metrics_train = pd.DataFrame(columns=METRICS)\n",
    "    metrics_test = pd.DataFrame(columns=METRICS_VAL)\n",
    "\n",
    "    for df_train, df_test in folds:\n",
    "        m = NeuralProphet(n_lags=8, n_forecasts=8)\n",
    "        train = m.fit(df=df_train, freq=\"15min\", validation_df=df_test)\n",
    "        test = m.test(df=df_test)\n",
    "        metrics_train = metrics_train.append(train[METRICS].iloc[-1])\n",
    "        metrics_test = metrics_test.append(test[METRICS_VAL].iloc[-1])\n",
    "\n",
    "    print(metrics_test.describe().loc[[\"mean\", \"std\", \"min\", \"max\"]])\n",
    "\n",
    "    return m, metrics_train, metrics_test\n",
    "\n",
    "\n",
    "def predict(model, df, scaler=None, forecast_hours=24):\n",
    "    periods = int((forecast_hours * 60) / 15)\n",
    "    future = model.make_future_dataframe(df, periods=periods)\n",
    "\n",
    "    forecast = model.predict(future)\n",
    "\n",
    "    if scaler is not None:\n",
    "        forecast['yhat1'] = scaler.inverse_transform(forecast[['yhat1']])\n",
    "        if 'y' in forecast.columns:\n",
    "            forecast['y'] = scaler.inverse_transform(forecast[['y']])\n",
    "\n",
    "    return forecast"
   ]
  },
  {
   "cell_type": "code",
   "execution_count": null,
   "metadata": {},
   "outputs": [],
   "source": [
    "train(price_df)"
   ]
  }
 ],
 "metadata": {
  "kernelspec": {
   "display_name": "rec",
   "language": "python",
   "name": "python3"
  },
  "language_info": {
   "codemirror_mode": {
    "name": "ipython",
    "version": 3
   },
   "file_extension": ".py",
   "mimetype": "text/x-python",
   "name": "python",
   "nbconvert_exporter": "python",
   "pygments_lexer": "ipython3",
   "version": "3.9.21"
  }
 },
 "nbformat": 4,
 "nbformat_minor": 2
}
